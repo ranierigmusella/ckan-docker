{
 "cells": [
  {
   "cell_type": "code",
   "execution_count": 10,
   "metadata": {},
   "outputs": [],
   "source": [
    "import openpyxl\n",
    "import re"
   ]
  },
  {
   "cell_type": "code",
   "execution_count": 11,
   "metadata": {},
   "outputs": [],
   "source": [
    "data_wk = openpyxl.load_workbook('Thematic Taxonomy GPN.xlsx')\n",
    "skos_wk = openpyxl.Workbook()"
   ]
  },
  {
   "cell_type": "markdown",
   "metadata": {},
   "source": [
    "Setting the General parameters for the generated excel file"
   ]
  },
  {
   "cell_type": "code",
   "execution_count": 12,
   "metadata": {},
   "outputs": [],
   "source": [
    "conceptSchemeURI = \"http://data.undp.org/taxonomies/capacity/version01\"\n",
    "prefix = \"capacity\"\n",
    "prefixURI = \"http://data.undp.org/taxonomies/capacity/version01/\"\n",
    "title = \"Capacity\"\n",
    "description = \"UNDP Capacity Taxonomy\"\n",
    "\n",
    "comment = \"This is a general comment that will be ignored. The converter will detect automatically the line containing the column titles below, so you can have a header as long as you want.\"\n",
    "\n",
    "skos_wk_filename = \"UNDP_Capacity_Tag_Taxonomy_Generated.xlsx\"\n",
    "\n",
    "debug = False"
   ]
  },
  {
   "cell_type": "markdown",
   "metadata": {},
   "source": [
    "Generating the template structure with general populated fields"
   ]
  },
  {
   "cell_type": "code",
   "execution_count": 13,
   "metadata": {},
   "outputs": [],
   "source": [
    "skos_sheet = skos_wk.active\n",
    "skos_sheet[\"A1\"] = \"ConceptScheme URI\"\n",
    "skos_sheet[\"A2\"] = \"PREFIX\"\n",
    "skos_sheet[\"A3\"] = \"dct:title\"\n",
    "skos_sheet[\"A4\"] = \"dct:description\"\n",
    "skos_sheet[\"A6\"] = comment\n",
    "\n",
    "skos_sheet[\"B1\"] = conceptSchemeURI\n",
    "skos_sheet[\"B2\"] = prefix\n",
    "skos_sheet[\"B3\"] = title\n",
    "skos_sheet[\"B4\"] = description\n",
    "\n",
    "skos_sheet[\"C2\"] = prefixURI\n",
    "\n",
    "skos_sheet[\"A8\"] = \"URI\"\n",
    "skos_sheet[\"B8\"] = \"skos:prefLabel@en\"\n",
    "skos_sheet[\"C8\"] = \"skos:definition\"\n",
    "skos_sheet[\"D8\"] = \"skos:narrower\"\n",
    "skos_sheet[\"E8\"] = \"skos:notation\"\n"
   ]
  },
  {
   "cell_type": "markdown",
   "metadata": {},
   "source": [
    "Starting the processing of the information to translate the flat hierarchy to the template format"
   ]
  },
  {
   "cell_type": "code",
   "execution_count": 14,
   "metadata": {},
   "outputs": [],
   "source": [
    "def uri_generator(value: str) -> str:\n",
    "    res = value.strip()\n",
    "    lowered = res.lower()\n",
    "    replaced1 = re.sub(\"[^a-zA-Z0-9\\s/]+\",\"\", lowered)\n",
    "    replaced2 = re.sub(\"\\s+\", \"_\", replaced1)\n",
    "    replaced3 = re.sub(\",+\", \"\", replaced2)\n",
    "    res = replaced3\n",
    "    return res"
   ]
  },
  {
   "cell_type": "code",
   "execution_count": 15,
   "metadata": {},
   "outputs": [
    {
     "name": "stdout",
     "output_type": "stream",
     "text": [
      "Working with the sheet : <Worksheet \"UNDP Capacity Taxonomy\">\n",
      "Range of data cells : A1:C325\n",
      "Number of loaded Concept nodes : 345\n"
     ]
    }
   ],
   "source": [
    "data_sheet = data_wk.active\n",
    "print(f\"Working with the sheet : {data_sheet}\")\n",
    "dimensions = data_sheet.dimensions\n",
    "print(f\"Range of data cells : {dimensions}\")\n",
    "firstCoordinate, secondCoordinate = dimensions.split(\":\")\n",
    "numberOfRows = int(secondCoordinate[1:(len(secondCoordinate))])\n",
    "\n",
    "columnsList = list(data_sheet.column_dimensions.keys())\n",
    "\n",
    "cellValues = dict()\n",
    "uriCollection = list()\n",
    "\n",
    "for row in range(2, numberOfRows):\n",
    "    rowPath = dict()\n",
    "    i = 0\n",
    "    for column in columnsList:\n",
    "        \n",
    "        data = data_sheet[f\"{column}{row}\"].value.strip()\n",
    "        rowPath[column] = re.sub(\"/\", \"\", data)\n",
    "        value = \"/\".join(rowPath.values())\n",
    "        uri = uri_generator(value)\n",
    "        if uri not in uriCollection:\n",
    "            cellValues[f\"{uri}-{column}\"] = { \"uri\": f\"{prefix}:{uri}\", \"conceptPrefLabel\": data, \"narrower\": dict() }\n",
    "            uriCollection.append(f\"{uri}\")\n",
    "    \n",
    "        if column != columnsList[len(columnsList) - 1]:\n",
    "            nextColumn = columnsList[i + 1]\n",
    "            dataChild = data_sheet[f\"{nextColumn}{row}\"].value.strip()\n",
    "            if dataChild is not None:\n",
    "                rowPath[nextColumn] = re.sub(\"/\", \"\", dataChild)\n",
    "                value = \"/\".join(rowPath.values())\n",
    "                uriChild = f\"{prefix}:{uri_generator(value)}\"\n",
    "                if uriChild not in uriCollection:\n",
    "                    cellValues[f\"{uri}-{column}\"][\"narrower\"][uriChild] = dataChild\n",
    "        i += 1\n",
    "\n",
    "print(f\"Number of loaded Concept nodes : {len(cellValues)}\")\n",
    "\n",
    "i = 9\n",
    "for k, v in cellValues.items(): \n",
    "    skos_sheet[f\"A{i}\"] = v[\"uri\"]\n",
    "    skos_sheet[f\"B{i}\"] = v[\"conceptPrefLabel\"]\n",
    "    skos_sheet[f\"C{i}\"] = v[\"conceptPrefLabel\"]\n",
    "    skos_sheet[f\"D{i}\"] = \", \".join(list(v[\"narrower\"].keys()))\n",
    "    skos_sheet[f\"E{i}\"] = v[\"conceptPrefLabel\"]\n",
    "    i += 1"
   ]
  },
  {
   "cell_type": "code",
   "execution_count": 16,
   "metadata": {},
   "outputs": [],
   "source": [
    "skos_wk.save(skos_wk_filename)\n",
    "skos_wk.close()\n",
    "data_wk.close()"
   ]
  }
 ],
 "metadata": {
  "interpreter": {
   "hash": "568d49c0137d9ad5d2241477c92ffe9fa6c077cf6de8c1902ee986ea38b1f145"
  },
  "kernelspec": {
   "display_name": "Python 3.8.8 64-bit ('base': conda)",
   "language": "python",
   "name": "python3"
  },
  "language_info": {
   "codemirror_mode": {
    "name": "ipython",
    "version": 3
   },
   "file_extension": ".py",
   "mimetype": "text/x-python",
   "name": "python",
   "nbconvert_exporter": "python",
   "pygments_lexer": "ipython3",
   "version": "3.8.8"
  },
  "orig_nbformat": 4
 },
 "nbformat": 4,
 "nbformat_minor": 2
}
